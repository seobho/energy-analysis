{
  "cells": [
    {
      "cell_type": "markdown",
      "metadata": {
        "id": "view-in-github",
        "colab_type": "text"
      },
      "source": [
        "<a href=\"https://colab.research.google.com/github/seobho/energy-analysis/blob/master/read-data.ipynb\" target=\"_parent\"><img src=\"https://colab.research.google.com/assets/colab-badge.svg\" alt=\"Open In Colab\"/></a>"
      ]
    },
    {
      "cell_type": "code",
      "execution_count": null,
      "metadata": {
        "id": "TRPv1QIO8YDr"
      },
      "outputs": [],
      "source": [
        "#서울시 에너지 파일 열기"
      ]
    },
    {
      "cell_type": "code",
      "source": [
        "!git clone https://github.com/seobho/energy-analysis"
      ],
      "metadata": {
        "id": "T5-_w6jGjaB0",
        "outputId": "3dc58502-9538-4e74-9937-e6c52e472e35",
        "colab": {
          "base_uri": "https://localhost:8080/"
        }
      },
      "execution_count": 7,
      "outputs": [
        {
          "output_type": "stream",
          "name": "stdout",
          "text": [
            "Cloning into 'energy-analysis'...\n",
            "remote: Enumerating objects: 42, done.\u001b[K\n",
            "remote: Counting objects: 100% (42/42), done.\u001b[K\n",
            "remote: Compressing objects: 100% (34/34), done.\u001b[K\n",
            "remote: Total 42 (delta 16), reused 23 (delta 6), pack-reused 0\u001b[K\n",
            "Unpacking objects: 100% (42/42), 115.38 KiB | 1.11 MiB/s, done.\n"
          ]
        }
      ]
    },
    {
      "cell_type": "code",
      "source": [
        "cd /content/energy-analysis"
      ],
      "metadata": {
        "id": "jNOTofY-jj8s",
        "outputId": "016ac36b-eda2-452c-c9fd-2385507d7def",
        "colab": {
          "base_uri": "https://localhost:8080/"
        }
      },
      "execution_count": 2,
      "outputs": [
        {
          "output_type": "stream",
          "name": "stdout",
          "text": [
            "/content/energy-analysis\n"
          ]
        }
      ]
    },
    {
      "cell_type": "code",
      "execution_count": 3,
      "metadata": {
        "id": "_vaBkA2W8YDs"
      },
      "outputs": [],
      "source": [
        "import pandas as pd"
      ]
    },
    {
      "cell_type": "code",
      "execution_count": 19,
      "metadata": {
        "id": "tRVfqLZc8YDt"
      },
      "outputs": [],
      "source": [
        "df = pd.read_csv('에너지사용량데이터_통계_요약정보.csv', encoding='euc-kr')"
      ]
    },
    {
      "cell_type": "code",
      "source": [
        "df.head(2)"
      ],
      "metadata": {
        "id": "9sMWZWNlpHhZ",
        "outputId": "72c8c8f8-59d8-46ea-903b-f91f552d4f56",
        "colab": {
          "base_uri": "https://localhost:8080/",
          "height": 340
        }
      },
      "execution_count": 12,
      "outputs": [
        {
          "output_type": "execute_result",
          "data": {
            "text/plain": [
              "     년도  월  회원타입    건수     현년 전기사용량     전년 전기사용량    전전년 전기사용량  토탈 전기 증감량  \\\n",
              "0  2023  2    학교  6686  156212159.0  157879854.0  147026809.0  3758827.5   \n",
              "1  2023  2  종교단체   810    8882371.0    8603719.0    7827413.0   666805.0   \n",
              "\n",
              "   토탈 전기탄소 증감량   현년 가스사용량  ...   전년 수도사용량  전전년 수도사용량  토탈 수도 증감량  토탈 수도탄소 증감량  \\\n",
              "0   1593742.86  6626730.0  ...  1558208.6  1387412.2   198068.2   65758.6424   \n",
              "1    282725.32   653880.0  ...    38138.0    31365.0     9063.5    3009.0820   \n",
              "\n",
              "   현년 지역난방 사용량  전년 지역난방 사용량  전전년 지역난방 사용량  토탈 지역난방 증감량  토탈 지역난방탄소 증감량  \\\n",
              "0    21391.059    27284.173     23351.389    -3926.722   -6667.713388   \n",
              "1        0.000        0.000         0.000        0.000       0.000000   \n",
              "\n",
              "                     등록일  \n",
              "0  2023-05-01 04:13:09.0  \n",
              "1  2023-05-01 04:13:09.0  \n",
              "\n",
              "[2 rows x 25 columns]"
            ],
            "text/html": [
              "\n",
              "  <div id=\"df-1b4c88d9-6c9d-4f1c-bbee-9f75aa3b9b57\">\n",
              "    <div class=\"colab-df-container\">\n",
              "      <div>\n",
              "<style scoped>\n",
              "    .dataframe tbody tr th:only-of-type {\n",
              "        vertical-align: middle;\n",
              "    }\n",
              "\n",
              "    .dataframe tbody tr th {\n",
              "        vertical-align: top;\n",
              "    }\n",
              "\n",
              "    .dataframe thead th {\n",
              "        text-align: right;\n",
              "    }\n",
              "</style>\n",
              "<table border=\"1\" class=\"dataframe\">\n",
              "  <thead>\n",
              "    <tr style=\"text-align: right;\">\n",
              "      <th></th>\n",
              "      <th>년도</th>\n",
              "      <th>월</th>\n",
              "      <th>회원타입</th>\n",
              "      <th>건수</th>\n",
              "      <th>현년 전기사용량</th>\n",
              "      <th>전년 전기사용량</th>\n",
              "      <th>전전년 전기사용량</th>\n",
              "      <th>토탈 전기 증감량</th>\n",
              "      <th>토탈 전기탄소 증감량</th>\n",
              "      <th>현년 가스사용량</th>\n",
              "      <th>...</th>\n",
              "      <th>전년 수도사용량</th>\n",
              "      <th>전전년 수도사용량</th>\n",
              "      <th>토탈 수도 증감량</th>\n",
              "      <th>토탈 수도탄소 증감량</th>\n",
              "      <th>현년 지역난방 사용량</th>\n",
              "      <th>전년 지역난방 사용량</th>\n",
              "      <th>전전년 지역난방 사용량</th>\n",
              "      <th>토탈 지역난방 증감량</th>\n",
              "      <th>토탈 지역난방탄소 증감량</th>\n",
              "      <th>등록일</th>\n",
              "    </tr>\n",
              "  </thead>\n",
              "  <tbody>\n",
              "    <tr>\n",
              "      <th>0</th>\n",
              "      <td>2023</td>\n",
              "      <td>2</td>\n",
              "      <td>학교</td>\n",
              "      <td>6686</td>\n",
              "      <td>156212159.0</td>\n",
              "      <td>157879854.0</td>\n",
              "      <td>147026809.0</td>\n",
              "      <td>3758827.5</td>\n",
              "      <td>1593742.86</td>\n",
              "      <td>6626730.0</td>\n",
              "      <td>...</td>\n",
              "      <td>1558208.6</td>\n",
              "      <td>1387412.2</td>\n",
              "      <td>198068.2</td>\n",
              "      <td>65758.6424</td>\n",
              "      <td>21391.059</td>\n",
              "      <td>27284.173</td>\n",
              "      <td>23351.389</td>\n",
              "      <td>-3926.722</td>\n",
              "      <td>-6667.713388</td>\n",
              "      <td>2023-05-01 04:13:09.0</td>\n",
              "    </tr>\n",
              "    <tr>\n",
              "      <th>1</th>\n",
              "      <td>2023</td>\n",
              "      <td>2</td>\n",
              "      <td>종교단체</td>\n",
              "      <td>810</td>\n",
              "      <td>8882371.0</td>\n",
              "      <td>8603719.0</td>\n",
              "      <td>7827413.0</td>\n",
              "      <td>666805.0</td>\n",
              "      <td>282725.32</td>\n",
              "      <td>653880.0</td>\n",
              "      <td>...</td>\n",
              "      <td>38138.0</td>\n",
              "      <td>31365.0</td>\n",
              "      <td>9063.5</td>\n",
              "      <td>3009.0820</td>\n",
              "      <td>0.000</td>\n",
              "      <td>0.000</td>\n",
              "      <td>0.000</td>\n",
              "      <td>0.000</td>\n",
              "      <td>0.000000</td>\n",
              "      <td>2023-05-01 04:13:09.0</td>\n",
              "    </tr>\n",
              "  </tbody>\n",
              "</table>\n",
              "<p>2 rows × 25 columns</p>\n",
              "</div>\n",
              "      <button class=\"colab-df-convert\" onclick=\"convertToInteractive('df-1b4c88d9-6c9d-4f1c-bbee-9f75aa3b9b57')\"\n",
              "              title=\"Convert this dataframe to an interactive table.\"\n",
              "              style=\"display:none;\">\n",
              "        \n",
              "  <svg xmlns=\"http://www.w3.org/2000/svg\" height=\"24px\"viewBox=\"0 0 24 24\"\n",
              "       width=\"24px\">\n",
              "    <path d=\"M0 0h24v24H0V0z\" fill=\"none\"/>\n",
              "    <path d=\"M18.56 5.44l.94 2.06.94-2.06 2.06-.94-2.06-.94-.94-2.06-.94 2.06-2.06.94zm-11 1L8.5 8.5l.94-2.06 2.06-.94-2.06-.94L8.5 2.5l-.94 2.06-2.06.94zm10 10l.94 2.06.94-2.06 2.06-.94-2.06-.94-.94-2.06-.94 2.06-2.06.94z\"/><path d=\"M17.41 7.96l-1.37-1.37c-.4-.4-.92-.59-1.43-.59-.52 0-1.04.2-1.43.59L10.3 9.45l-7.72 7.72c-.78.78-.78 2.05 0 2.83L4 21.41c.39.39.9.59 1.41.59.51 0 1.02-.2 1.41-.59l7.78-7.78 2.81-2.81c.8-.78.8-2.07 0-2.86zM5.41 20L4 18.59l7.72-7.72 1.47 1.35L5.41 20z\"/>\n",
              "  </svg>\n",
              "      </button>\n",
              "      \n",
              "  <style>\n",
              "    .colab-df-container {\n",
              "      display:flex;\n",
              "      flex-wrap:wrap;\n",
              "      gap: 12px;\n",
              "    }\n",
              "\n",
              "    .colab-df-convert {\n",
              "      background-color: #E8F0FE;\n",
              "      border: none;\n",
              "      border-radius: 50%;\n",
              "      cursor: pointer;\n",
              "      display: none;\n",
              "      fill: #1967D2;\n",
              "      height: 32px;\n",
              "      padding: 0 0 0 0;\n",
              "      width: 32px;\n",
              "    }\n",
              "\n",
              "    .colab-df-convert:hover {\n",
              "      background-color: #E2EBFA;\n",
              "      box-shadow: 0px 1px 2px rgba(60, 64, 67, 0.3), 0px 1px 3px 1px rgba(60, 64, 67, 0.15);\n",
              "      fill: #174EA6;\n",
              "    }\n",
              "\n",
              "    [theme=dark] .colab-df-convert {\n",
              "      background-color: #3B4455;\n",
              "      fill: #D2E3FC;\n",
              "    }\n",
              "\n",
              "    [theme=dark] .colab-df-convert:hover {\n",
              "      background-color: #434B5C;\n",
              "      box-shadow: 0px 1px 3px 1px rgba(0, 0, 0, 0.15);\n",
              "      filter: drop-shadow(0px 1px 2px rgba(0, 0, 0, 0.3));\n",
              "      fill: #FFFFFF;\n",
              "    }\n",
              "  </style>\n",
              "\n",
              "      <script>\n",
              "        const buttonEl =\n",
              "          document.querySelector('#df-1b4c88d9-6c9d-4f1c-bbee-9f75aa3b9b57 button.colab-df-convert');\n",
              "        buttonEl.style.display =\n",
              "          google.colab.kernel.accessAllowed ? 'block' : 'none';\n",
              "\n",
              "        async function convertToInteractive(key) {\n",
              "          const element = document.querySelector('#df-1b4c88d9-6c9d-4f1c-bbee-9f75aa3b9b57');\n",
              "          const dataTable =\n",
              "            await google.colab.kernel.invokeFunction('convertToInteractive',\n",
              "                                                     [key], {});\n",
              "          if (!dataTable) return;\n",
              "\n",
              "          const docLinkHtml = 'Like what you see? Visit the ' +\n",
              "            '<a target=\"_blank\" href=https://colab.research.google.com/notebooks/data_table.ipynb>data table notebook</a>'\n",
              "            + ' to learn more about interactive tables.';\n",
              "          element.innerHTML = '';\n",
              "          dataTable['output_type'] = 'display_data';\n",
              "          await google.colab.output.renderOutput(dataTable, element);\n",
              "          const docLink = document.createElement('div');\n",
              "          docLink.innerHTML = docLinkHtml;\n",
              "          element.appendChild(docLink);\n",
              "        }\n",
              "      </script>\n",
              "    </div>\n",
              "  </div>\n",
              "  "
            ]
          },
          "metadata": {},
          "execution_count": 12
        }
      ]
    },
    {
      "cell_type": "code",
      "execution_count": 13,
      "metadata": {
        "id": "MVQQcJJ88YDt",
        "outputId": "d045db7c-82dd-4f1a-baa5-f481f3d2e274",
        "colab": {
          "base_uri": "https://localhost:8080/"
        }
      },
      "outputs": [
        {
          "output_type": "execute_result",
          "data": {
            "text/plain": [
              "Index(['년도', '월', '회원타입', '건수', '현년 전기사용량', '전년 전기사용량', '전전년 전기사용량',\n",
              "       '토탈 전기 증감량', '토탈 전기탄소 증감량', '현년 가스사용량', '전년 가스사용량', '전전년 가스사용량',\n",
              "       '토탈 가스 증감량', '토탈 가스탄소 증감량', '현년 수도사용량', '전년 수도사용량', '전전년 수도사용량',\n",
              "       '토탈 수도 증감량', '토탈 수도탄소 증감량', '현년 지역난방 사용량', '전년 지역난방 사용량',\n",
              "       '전전년 지역난방 사용량', '토탈 지역난방 증감량', '토탈 지역난방탄소 증감량', '등록일'],\n",
              "      dtype='object')"
            ]
          },
          "metadata": {},
          "execution_count": 13
        }
      ],
      "source": [
        "df.columns"
      ]
    },
    {
      "cell_type": "code",
      "source": [
        "# 필요한 column만 남기기\n",
        "new_columns = ['년도', '월', '회원타입', '건수', '현년 전기사용량', '현년 가스사용량', '현년 수도사용량', '현년 지역난방 사용량']\n",
        "df = df.reindex(columns=new_columns)"
      ],
      "metadata": {
        "id": "FpXpWoxHnEtn"
      },
      "execution_count": 20,
      "outputs": []
    },
    {
      "cell_type": "code",
      "source": [
        "#영어로 변환하기\n",
        "# 1. column 변환\n",
        "english_columns = ['year', 'month', 'user_type', 'count', 'electricity_usage', 'gas_usage', 'water_usage', 'district_heating_usage']\n",
        "change_columns = dict(zip(new_columns, english_columns))\n",
        "df.rename(columns=change_columns, inplace=True)\n",
        "\n",
        "# 2. user_type 변환\n",
        "translation_dict = {'학교' : 'school',\n",
        "                 '종교단체' : 'religious_organization',\n",
        "                 '소상공인' : 'small_business_owner',\n",
        "                 '기업' : 'corporation',\n",
        "                 '공동주택관리소' : 'homeowners_association',\n",
        "                 '공공기관' : 'public_institution',\n",
        "                 '개인' : 'individual'}\n",
        "df['user_type'] = df['user_type'].replace(translation_dict)\n",
        "df"
      ],
      "metadata": {
        "id": "-FlQFy5hFFTS",
        "outputId": "0ea5d554-b744-4104-d3da-d66414eaf383",
        "colab": {
          "base_uri": "https://localhost:8080/",
          "height": 419
        }
      },
      "execution_count": 21,
      "outputs": [
        {
          "output_type": "execute_result",
          "data": {
            "text/plain": [
              "      year  month               user_type  count  electricity_usage  \\\n",
              "0     2023      2                  school   6686        156212159.0   \n",
              "1     2023      2  religious_organization    810          8882371.0   \n",
              "2     2023      2    small_business_owner  49154        104230033.0   \n",
              "3     2023      2             corporation  19032        571542443.0   \n",
              "4     2023      2  homeowners_association   3629        522468207.0   \n",
              "...    ...    ...                     ...    ...                ...   \n",
              "1040  2009     10      public_institution    563         16216821.0   \n",
              "1041  2009     10              individual  43711          4976029.0   \n",
              "1042  2009      9             corporation      1              259.0   \n",
              "1043  2009      9  homeowners_association    252         50493183.0   \n",
              "1044  2009      9              individual  30691          3408312.0   \n",
              "\n",
              "       gas_usage  water_usage  district_heating_usage  \n",
              "0      6626730.0   1670878.60               21391.059  \n",
              "1       653880.0     43815.00                   0.000  \n",
              "2      3736526.0   1532331.80                2211.410  \n",
              "3     40105191.0   4244692.10                   0.000  \n",
              "4     15160829.0  20100920.80                   0.000  \n",
              "...          ...          ...                     ...  \n",
              "1040    298824.0    335667.40                     NaN  \n",
              "1041    956426.0    607671.10                   0.000  \n",
              "1042        13.0        38.20                     NaN  \n",
              "1043    198961.0   2070903.60                     NaN  \n",
              "1044    476425.0    422157.68                   0.000  \n",
              "\n",
              "[1045 rows x 8 columns]"
            ],
            "text/html": [
              "\n",
              "  <div id=\"df-58806ed5-feec-45be-a96e-d12656ee22bc\">\n",
              "    <div class=\"colab-df-container\">\n",
              "      <div>\n",
              "<style scoped>\n",
              "    .dataframe tbody tr th:only-of-type {\n",
              "        vertical-align: middle;\n",
              "    }\n",
              "\n",
              "    .dataframe tbody tr th {\n",
              "        vertical-align: top;\n",
              "    }\n",
              "\n",
              "    .dataframe thead th {\n",
              "        text-align: right;\n",
              "    }\n",
              "</style>\n",
              "<table border=\"1\" class=\"dataframe\">\n",
              "  <thead>\n",
              "    <tr style=\"text-align: right;\">\n",
              "      <th></th>\n",
              "      <th>year</th>\n",
              "      <th>month</th>\n",
              "      <th>user_type</th>\n",
              "      <th>count</th>\n",
              "      <th>electricity_usage</th>\n",
              "      <th>gas_usage</th>\n",
              "      <th>water_usage</th>\n",
              "      <th>district_heating_usage</th>\n",
              "    </tr>\n",
              "  </thead>\n",
              "  <tbody>\n",
              "    <tr>\n",
              "      <th>0</th>\n",
              "      <td>2023</td>\n",
              "      <td>2</td>\n",
              "      <td>school</td>\n",
              "      <td>6686</td>\n",
              "      <td>156212159.0</td>\n",
              "      <td>6626730.0</td>\n",
              "      <td>1670878.60</td>\n",
              "      <td>21391.059</td>\n",
              "    </tr>\n",
              "    <tr>\n",
              "      <th>1</th>\n",
              "      <td>2023</td>\n",
              "      <td>2</td>\n",
              "      <td>religious_organization</td>\n",
              "      <td>810</td>\n",
              "      <td>8882371.0</td>\n",
              "      <td>653880.0</td>\n",
              "      <td>43815.00</td>\n",
              "      <td>0.000</td>\n",
              "    </tr>\n",
              "    <tr>\n",
              "      <th>2</th>\n",
              "      <td>2023</td>\n",
              "      <td>2</td>\n",
              "      <td>small_business_owner</td>\n",
              "      <td>49154</td>\n",
              "      <td>104230033.0</td>\n",
              "      <td>3736526.0</td>\n",
              "      <td>1532331.80</td>\n",
              "      <td>2211.410</td>\n",
              "    </tr>\n",
              "    <tr>\n",
              "      <th>3</th>\n",
              "      <td>2023</td>\n",
              "      <td>2</td>\n",
              "      <td>corporation</td>\n",
              "      <td>19032</td>\n",
              "      <td>571542443.0</td>\n",
              "      <td>40105191.0</td>\n",
              "      <td>4244692.10</td>\n",
              "      <td>0.000</td>\n",
              "    </tr>\n",
              "    <tr>\n",
              "      <th>4</th>\n",
              "      <td>2023</td>\n",
              "      <td>2</td>\n",
              "      <td>homeowners_association</td>\n",
              "      <td>3629</td>\n",
              "      <td>522468207.0</td>\n",
              "      <td>15160829.0</td>\n",
              "      <td>20100920.80</td>\n",
              "      <td>0.000</td>\n",
              "    </tr>\n",
              "    <tr>\n",
              "      <th>...</th>\n",
              "      <td>...</td>\n",
              "      <td>...</td>\n",
              "      <td>...</td>\n",
              "      <td>...</td>\n",
              "      <td>...</td>\n",
              "      <td>...</td>\n",
              "      <td>...</td>\n",
              "      <td>...</td>\n",
              "    </tr>\n",
              "    <tr>\n",
              "      <th>1040</th>\n",
              "      <td>2009</td>\n",
              "      <td>10</td>\n",
              "      <td>public_institution</td>\n",
              "      <td>563</td>\n",
              "      <td>16216821.0</td>\n",
              "      <td>298824.0</td>\n",
              "      <td>335667.40</td>\n",
              "      <td>NaN</td>\n",
              "    </tr>\n",
              "    <tr>\n",
              "      <th>1041</th>\n",
              "      <td>2009</td>\n",
              "      <td>10</td>\n",
              "      <td>individual</td>\n",
              "      <td>43711</td>\n",
              "      <td>4976029.0</td>\n",
              "      <td>956426.0</td>\n",
              "      <td>607671.10</td>\n",
              "      <td>0.000</td>\n",
              "    </tr>\n",
              "    <tr>\n",
              "      <th>1042</th>\n",
              "      <td>2009</td>\n",
              "      <td>9</td>\n",
              "      <td>corporation</td>\n",
              "      <td>1</td>\n",
              "      <td>259.0</td>\n",
              "      <td>13.0</td>\n",
              "      <td>38.20</td>\n",
              "      <td>NaN</td>\n",
              "    </tr>\n",
              "    <tr>\n",
              "      <th>1043</th>\n",
              "      <td>2009</td>\n",
              "      <td>9</td>\n",
              "      <td>homeowners_association</td>\n",
              "      <td>252</td>\n",
              "      <td>50493183.0</td>\n",
              "      <td>198961.0</td>\n",
              "      <td>2070903.60</td>\n",
              "      <td>NaN</td>\n",
              "    </tr>\n",
              "    <tr>\n",
              "      <th>1044</th>\n",
              "      <td>2009</td>\n",
              "      <td>9</td>\n",
              "      <td>individual</td>\n",
              "      <td>30691</td>\n",
              "      <td>3408312.0</td>\n",
              "      <td>476425.0</td>\n",
              "      <td>422157.68</td>\n",
              "      <td>0.000</td>\n",
              "    </tr>\n",
              "  </tbody>\n",
              "</table>\n",
              "<p>1045 rows × 8 columns</p>\n",
              "</div>\n",
              "      <button class=\"colab-df-convert\" onclick=\"convertToInteractive('df-58806ed5-feec-45be-a96e-d12656ee22bc')\"\n",
              "              title=\"Convert this dataframe to an interactive table.\"\n",
              "              style=\"display:none;\">\n",
              "        \n",
              "  <svg xmlns=\"http://www.w3.org/2000/svg\" height=\"24px\"viewBox=\"0 0 24 24\"\n",
              "       width=\"24px\">\n",
              "    <path d=\"M0 0h24v24H0V0z\" fill=\"none\"/>\n",
              "    <path d=\"M18.56 5.44l.94 2.06.94-2.06 2.06-.94-2.06-.94-.94-2.06-.94 2.06-2.06.94zm-11 1L8.5 8.5l.94-2.06 2.06-.94-2.06-.94L8.5 2.5l-.94 2.06-2.06.94zm10 10l.94 2.06.94-2.06 2.06-.94-2.06-.94-.94-2.06-.94 2.06-2.06.94z\"/><path d=\"M17.41 7.96l-1.37-1.37c-.4-.4-.92-.59-1.43-.59-.52 0-1.04.2-1.43.59L10.3 9.45l-7.72 7.72c-.78.78-.78 2.05 0 2.83L4 21.41c.39.39.9.59 1.41.59.51 0 1.02-.2 1.41-.59l7.78-7.78 2.81-2.81c.8-.78.8-2.07 0-2.86zM5.41 20L4 18.59l7.72-7.72 1.47 1.35L5.41 20z\"/>\n",
              "  </svg>\n",
              "      </button>\n",
              "      \n",
              "  <style>\n",
              "    .colab-df-container {\n",
              "      display:flex;\n",
              "      flex-wrap:wrap;\n",
              "      gap: 12px;\n",
              "    }\n",
              "\n",
              "    .colab-df-convert {\n",
              "      background-color: #E8F0FE;\n",
              "      border: none;\n",
              "      border-radius: 50%;\n",
              "      cursor: pointer;\n",
              "      display: none;\n",
              "      fill: #1967D2;\n",
              "      height: 32px;\n",
              "      padding: 0 0 0 0;\n",
              "      width: 32px;\n",
              "    }\n",
              "\n",
              "    .colab-df-convert:hover {\n",
              "      background-color: #E2EBFA;\n",
              "      box-shadow: 0px 1px 2px rgba(60, 64, 67, 0.3), 0px 1px 3px 1px rgba(60, 64, 67, 0.15);\n",
              "      fill: #174EA6;\n",
              "    }\n",
              "\n",
              "    [theme=dark] .colab-df-convert {\n",
              "      background-color: #3B4455;\n",
              "      fill: #D2E3FC;\n",
              "    }\n",
              "\n",
              "    [theme=dark] .colab-df-convert:hover {\n",
              "      background-color: #434B5C;\n",
              "      box-shadow: 0px 1px 3px 1px rgba(0, 0, 0, 0.15);\n",
              "      filter: drop-shadow(0px 1px 2px rgba(0, 0, 0, 0.3));\n",
              "      fill: #FFFFFF;\n",
              "    }\n",
              "  </style>\n",
              "\n",
              "      <script>\n",
              "        const buttonEl =\n",
              "          document.querySelector('#df-58806ed5-feec-45be-a96e-d12656ee22bc button.colab-df-convert');\n",
              "        buttonEl.style.display =\n",
              "          google.colab.kernel.accessAllowed ? 'block' : 'none';\n",
              "\n",
              "        async function convertToInteractive(key) {\n",
              "          const element = document.querySelector('#df-58806ed5-feec-45be-a96e-d12656ee22bc');\n",
              "          const dataTable =\n",
              "            await google.colab.kernel.invokeFunction('convertToInteractive',\n",
              "                                                     [key], {});\n",
              "          if (!dataTable) return;\n",
              "\n",
              "          const docLinkHtml = 'Like what you see? Visit the ' +\n",
              "            '<a target=\"_blank\" href=https://colab.research.google.com/notebooks/data_table.ipynb>data table notebook</a>'\n",
              "            + ' to learn more about interactive tables.';\n",
              "          element.innerHTML = '';\n",
              "          dataTable['output_type'] = 'display_data';\n",
              "          await google.colab.output.renderOutput(dataTable, element);\n",
              "          const docLink = document.createElement('div');\n",
              "          docLink.innerHTML = docLinkHtml;\n",
              "          element.appendChild(docLink);\n",
              "        }\n",
              "      </script>\n",
              "    </div>\n",
              "  </div>\n",
              "  "
            ]
          },
          "metadata": {},
          "execution_count": 21
        }
      ]
    },
    {
      "cell_type": "code",
      "source": [
        "df[['user_type','district_heating_usage']].isnull().sum()"
      ],
      "metadata": {
        "id": "YNRZ_oFH66SU",
        "outputId": "9cc1b8c2-36ea-425f-c791-2596714de5fd",
        "colab": {
          "base_uri": "https://localhost:8080/"
        }
      },
      "execution_count": 28,
      "outputs": [
        {
          "output_type": "execute_result",
          "data": {
            "text/plain": [
              "user_type                  0\n",
              "district_heating_usage    89\n",
              "dtype: int64"
            ]
          },
          "metadata": {},
          "execution_count": 28
        }
      ]
    },
    {
      "cell_type": "code",
      "source": [],
      "metadata": {
        "id": "FE7Pcrvd5wzW"
      },
      "execution_count": null,
      "outputs": []
    }
  ],
  "metadata": {
    "kernelspec": {
      "display_name": "Python 3",
      "language": "python",
      "name": "python3"
    },
    "language_info": {
      "codemirror_mode": {
        "name": "ipython",
        "version": 3
      },
      "file_extension": ".py",
      "mimetype": "text/x-python",
      "name": "python",
      "nbconvert_exporter": "python",
      "pygments_lexer": "ipython3",
      "version": "3.7.4"
    },
    "colab": {
      "provenance": [],
      "include_colab_link": true
    }
  },
  "nbformat": 4,
  "nbformat_minor": 0
}
