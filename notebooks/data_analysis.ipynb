{
 "cells": [
  {
   "cell_type": "markdown",
   "metadata": {
    "colab_type": "text",
    "id": "view-in-github"
   },
   "source": [
    "<a href=\"https://colab.research.google.com/github/seobho/energy-analysis/blob/master/notebooks/data_analysis.ipynb\" target=\"_parent\"><img src=\"https://colab.research.google.com/assets/colab-badge.svg\" alt=\"Open In Colab\"/></a>"
   ]
  },
  {
   "cell_type": "code",
   "execution_count": 8,
   "metadata": {
    "colab": {
     "base_uri": "https://localhost:8080/"
    },
    "id": "pHml1IQR8SDx",
    "outputId": "c0f31eab-ea9f-405a-8f82-11a3ccc69847"
   },
   "outputs": [
    {
     "name": "stdout",
     "output_type": "stream",
     "text": [
      "fatal: destination path 'energy-analysis' already exists and is not an empty directory.\n"
     ]
    }
   ],
   "source": [
    "# # Use this code when running it in Google Colab.\n",
    "# !git clone https://github.com/seobho/energy-analysis"
   ]
  },
  {
   "cell_type": "code",
   "execution_count": 9,
   "metadata": {
    "colab": {
     "base_uri": "https://localhost:8080/"
    },
    "id": "BHfcfM7dOrCl",
    "outputId": "2793b3f6-fd95-4ef3-a7d5-07359f2568a5"
   },
   "outputs": [
    {
     "name": "stdout",
     "output_type": "stream",
     "text": [
      "/content/energy-analysis\n"
     ]
    }
   ],
   "source": [
    "# # Use this code when running it in Google Colab.\n",
    "# cd /content/energy-analysis"
   ]
  },
  {
   "cell_type": "code",
   "execution_count": 3,
   "metadata": {},
   "outputs": [],
   "source": [
    "dataset_path = '/workspace/energy-analysis/dataset/'\n",
    "\n",
    "# # Use this code when running it in Google Colab\n",
    "# dataset_path = '/content/energy-analysis/dataset'"
   ]
  },
  {
   "cell_type": "code",
   "execution_count": 2,
   "metadata": {
    "id": "FvpFK-6t8FZu"
   },
   "outputs": [],
   "source": [
    "import pandas as pd"
   ]
  },
  {
   "cell_type": "code",
   "execution_count": 4,
   "metadata": {
    "colab": {
     "base_uri": "https://localhost:8080/",
     "height": 327
    },
    "id": "yDFSNPbNPH2N",
    "outputId": "7afbeb05-d9ee-46d5-99ce-ef3bdd7cac14"
   },
   "outputs": [],
   "source": [
    "df = pd.read_csv(dataset_path + 'processed_energy_usage_data.csv')"
   ]
  },
  {
   "cell_type": "code",
   "execution_count": 5,
   "metadata": {
    "id": "6ON1BX-jQPVX"
   },
   "outputs": [
    {
     "data": {
      "text/html": [
       "<div>\n",
       "<style scoped>\n",
       "    .dataframe tbody tr th:only-of-type {\n",
       "        vertical-align: middle;\n",
       "    }\n",
       "\n",
       "    .dataframe tbody tr th {\n",
       "        vertical-align: top;\n",
       "    }\n",
       "\n",
       "    .dataframe thead th {\n",
       "        text-align: right;\n",
       "    }\n",
       "</style>\n",
       "<table border=\"1\" class=\"dataframe\">\n",
       "  <thead>\n",
       "    <tr style=\"text-align: right;\">\n",
       "      <th></th>\n",
       "      <th>Unnamed: 0</th>\n",
       "      <th>년도</th>\n",
       "      <th>월</th>\n",
       "      <th>회원타입</th>\n",
       "      <th>건수</th>\n",
       "      <th>현년 전기사용량</th>\n",
       "      <th>전년 전기사용량</th>\n",
       "      <th>전전년 전기사용량</th>\n",
       "      <th>토탈 전기 증감량</th>\n",
       "      <th>토탈 전기탄소 증감량</th>\n",
       "      <th>...</th>\n",
       "      <th>전년 수도사용량</th>\n",
       "      <th>전전년 수도사용량</th>\n",
       "      <th>토탈 수도 증감량</th>\n",
       "      <th>토탈 수도탄소 증감량</th>\n",
       "      <th>현년 지역난방 사용량</th>\n",
       "      <th>전년 지역난방 사용량</th>\n",
       "      <th>전전년 지역난방 사용량</th>\n",
       "      <th>토탈 지역난방 증감량</th>\n",
       "      <th>토탈 지역난방탄소 증감량</th>\n",
       "      <th>등록일</th>\n",
       "    </tr>\n",
       "  </thead>\n",
       "  <tbody>\n",
       "    <tr>\n",
       "      <th>0</th>\n",
       "      <td>0</td>\n",
       "      <td>2023</td>\n",
       "      <td>2</td>\n",
       "      <td>학교</td>\n",
       "      <td>6686</td>\n",
       "      <td>156212159.0</td>\n",
       "      <td>157879854.0</td>\n",
       "      <td>147026809.0</td>\n",
       "      <td>3758827.5</td>\n",
       "      <td>1593742.860</td>\n",
       "      <td>...</td>\n",
       "      <td>1558208.6</td>\n",
       "      <td>1387412.2</td>\n",
       "      <td>198068.20</td>\n",
       "      <td>65758.6424</td>\n",
       "      <td>21391.059</td>\n",
       "      <td>27284.173</td>\n",
       "      <td>23351.389</td>\n",
       "      <td>-3926.722</td>\n",
       "      <td>-6667.713388</td>\n",
       "      <td>2023-05-01 04:13:09.0</td>\n",
       "    </tr>\n",
       "    <tr>\n",
       "      <th>1</th>\n",
       "      <td>1</td>\n",
       "      <td>2023</td>\n",
       "      <td>2</td>\n",
       "      <td>종교단체</td>\n",
       "      <td>810</td>\n",
       "      <td>8882371.0</td>\n",
       "      <td>8603719.0</td>\n",
       "      <td>7827413.0</td>\n",
       "      <td>666805.0</td>\n",
       "      <td>282725.320</td>\n",
       "      <td>...</td>\n",
       "      <td>38138.0</td>\n",
       "      <td>31365.0</td>\n",
       "      <td>9063.50</td>\n",
       "      <td>3009.0820</td>\n",
       "      <td>0.000</td>\n",
       "      <td>0.000</td>\n",
       "      <td>0.000</td>\n",
       "      <td>0.000</td>\n",
       "      <td>0.000000</td>\n",
       "      <td>2023-05-01 04:13:09.0</td>\n",
       "    </tr>\n",
       "    <tr>\n",
       "      <th>2</th>\n",
       "      <td>2</td>\n",
       "      <td>2023</td>\n",
       "      <td>2</td>\n",
       "      <td>소상공인</td>\n",
       "      <td>49154</td>\n",
       "      <td>104230033.0</td>\n",
       "      <td>105285166.0</td>\n",
       "      <td>100076719.0</td>\n",
       "      <td>1549090.5</td>\n",
       "      <td>656814.372</td>\n",
       "      <td>...</td>\n",
       "      <td>1459420.9</td>\n",
       "      <td>1314505.0</td>\n",
       "      <td>145368.85</td>\n",
       "      <td>48262.4582</td>\n",
       "      <td>2211.410</td>\n",
       "      <td>3155.170</td>\n",
       "      <td>2193.810</td>\n",
       "      <td>-463.080</td>\n",
       "      <td>-649.340404</td>\n",
       "      <td>2023-05-01 04:13:09.0</td>\n",
       "    </tr>\n",
       "    <tr>\n",
       "      <th>3</th>\n",
       "      <td>3</td>\n",
       "      <td>2023</td>\n",
       "      <td>2</td>\n",
       "      <td>기업</td>\n",
       "      <td>19032</td>\n",
       "      <td>571542443.0</td>\n",
       "      <td>583672346.0</td>\n",
       "      <td>553650148.0</td>\n",
       "      <td>2881196.0</td>\n",
       "      <td>1221627.104</td>\n",
       "      <td>...</td>\n",
       "      <td>3966371.0</td>\n",
       "      <td>3535191.8</td>\n",
       "      <td>493910.70</td>\n",
       "      <td>163978.3524</td>\n",
       "      <td>0.000</td>\n",
       "      <td>0.000</td>\n",
       "      <td>0.000</td>\n",
       "      <td>0.000</td>\n",
       "      <td>0.000000</td>\n",
       "      <td>2023-05-01 04:13:09.0</td>\n",
       "    </tr>\n",
       "    <tr>\n",
       "      <th>4</th>\n",
       "      <td>4</td>\n",
       "      <td>2023</td>\n",
       "      <td>2</td>\n",
       "      <td>공동주택관리소</td>\n",
       "      <td>3629</td>\n",
       "      <td>522468207.0</td>\n",
       "      <td>541038378.0</td>\n",
       "      <td>537803346.0</td>\n",
       "      <td>-16952655.0</td>\n",
       "      <td>-7187925.720</td>\n",
       "      <td>...</td>\n",
       "      <td>20956560.6</td>\n",
       "      <td>21387511.6</td>\n",
       "      <td>-1071115.30</td>\n",
       "      <td>-355610.2796</td>\n",
       "      <td>0.000</td>\n",
       "      <td>0.000</td>\n",
       "      <td>0.000</td>\n",
       "      <td>0.000</td>\n",
       "      <td>0.000000</td>\n",
       "      <td>2023-05-01 04:13:09.0</td>\n",
       "    </tr>\n",
       "  </tbody>\n",
       "</table>\n",
       "<p>5 rows × 26 columns</p>\n",
       "</div>"
      ],
      "text/plain": [
       "   Unnamed: 0    년도  월     회원타입     건수     현년 전기사용량     전년 전기사용량    전전년 전기사용량  \\\n",
       "0           0  2023  2       학교   6686  156212159.0  157879854.0  147026809.0   \n",
       "1           1  2023  2     종교단체    810    8882371.0    8603719.0    7827413.0   \n",
       "2           2  2023  2     소상공인  49154  104230033.0  105285166.0  100076719.0   \n",
       "3           3  2023  2       기업  19032  571542443.0  583672346.0  553650148.0   \n",
       "4           4  2023  2  공동주택관리소   3629  522468207.0  541038378.0  537803346.0   \n",
       "\n",
       "    토탈 전기 증감량  토탈 전기탄소 증감량  ...    전년 수도사용량   전전년 수도사용량   토탈 수도 증감량  \\\n",
       "0   3758827.5  1593742.860  ...   1558208.6   1387412.2   198068.20   \n",
       "1    666805.0   282725.320  ...     38138.0     31365.0     9063.50   \n",
       "2   1549090.5   656814.372  ...   1459420.9   1314505.0   145368.85   \n",
       "3   2881196.0  1221627.104  ...   3966371.0   3535191.8   493910.70   \n",
       "4 -16952655.0 -7187925.720  ...  20956560.6  21387511.6 -1071115.30   \n",
       "\n",
       "   토탈 수도탄소 증감량  현년 지역난방 사용량  전년 지역난방 사용량  전전년 지역난방 사용량  토탈 지역난방 증감량  \\\n",
       "0   65758.6424    21391.059    27284.173     23351.389    -3926.722   \n",
       "1    3009.0820        0.000        0.000         0.000        0.000   \n",
       "2   48262.4582     2211.410     3155.170      2193.810     -463.080   \n",
       "3  163978.3524        0.000        0.000         0.000        0.000   \n",
       "4 -355610.2796        0.000        0.000         0.000        0.000   \n",
       "\n",
       "   토탈 지역난방탄소 증감량                    등록일  \n",
       "0   -6667.713388  2023-05-01 04:13:09.0  \n",
       "1       0.000000  2023-05-01 04:13:09.0  \n",
       "2    -649.340404  2023-05-01 04:13:09.0  \n",
       "3       0.000000  2023-05-01 04:13:09.0  \n",
       "4       0.000000  2023-05-01 04:13:09.0  \n",
       "\n",
       "[5 rows x 26 columns]"
      ]
     },
     "execution_count": 5,
     "metadata": {},
     "output_type": "execute_result"
    }
   ],
   "source": [
    "df.head()"
   ]
  },
  {
   "cell_type": "code",
   "execution_count": null,
   "metadata": {},
   "outputs": [],
   "source": []
  }
 ],
 "metadata": {
  "colab": {
   "include_colab_link": true,
   "provenance": []
  },
  "kernelspec": {
   "display_name": "Python 3",
   "language": "python",
   "name": "python3"
  },
  "language_info": {
   "codemirror_mode": {
    "name": "ipython",
    "version": 3
   },
   "file_extension": ".py",
   "mimetype": "text/x-python",
   "name": "python",
   "nbconvert_exporter": "python",
   "pygments_lexer": "ipython3",
   "version": "3.7.4"
  }
 },
 "nbformat": 4,
 "nbformat_minor": 1
}
