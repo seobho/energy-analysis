{
 "cells": [
  {
   "cell_type": "markdown",
   "metadata": {
    "colab_type": "text",
    "id": "view-in-github"
   },
   "source": [
    "<a href=\"https://colab.research.google.com/github/seobho/energy-analysis/blob/master/notebooks/data_manipulation.ipynb\" target=\"_parent\"><img src=\"https://colab.research.google.com/assets/colab-badge.svg\" alt=\"Open In Colab\"/></a>"
   ]
  },
  {
   "cell_type": "markdown",
   "metadata": {
    "id": "TRPv1QIO8YDr"
   },
   "source": [
    "## Data Manipulation for Seoul City Energy Usage Statistics Dataset\n",
    "\n",
    "This Jupyter Notebook contains the process of manipulating the Seoul City energy usage statistics dataset. The following are the key steps involved in data manipulation:\n",
    "\n",
    "### Introduction to the Dataset\n",
    "\n",
    "This dataset provides statistical information on electricity usage, gas usage, water usage, and district heating energy usage in Seoul Special City. The dataset, owned by Seoul Metropolitan Government, covers aggregated information from September 2009 to February 2023.\n",
    "\n",
    "link: https://data.seoul.go.kr/dataList/OA-15361/S/1/datasetView.do\n",
    "\n",
    "### Data Manipulation Process\n",
    "\n",
    "1. **Removal of Unnecessary Data**: Remove columns that are not relevant to the analysis or contain duplicate data. This helps clean up the dataframe and focus on the necessary data for analysis.\n",
    "\n",
    "2. **Translation of Korean to English**: Convert the Korean columns in the dataset to English to standardize the data. This enables easier data analysis and visualization tasks.\n",
    "\n",
    "3. **Handling Missing Values**: Identify and handle missing values using appropriate techniques. Dealing with missing values ensures data integrity and reliability.\n",
    "\n",
    "By following these steps sequentially, we obtain a processed dataset. Each step is accompanied by code cells and comments explaining the functions and codes used.\n",
    "\n",
    "**Note**: This notebook utilizes Python and the pandas library for data manipulation.\n",
    "\n",
    "For more details, please refer to the code cells and comments.\n"
   ]
  },
  {
   "cell_type": "code",
   "execution_count": 7,
   "metadata": {
    "colab": {
     "base_uri": "https://localhost:8080/"
    },
    "id": "T5-_w6jGjaB0",
    "outputId": "b5c9719d-e264-4121-d030-c2482390fb69"
   },
   "outputs": [
    {
     "name": "stdout",
     "output_type": "stream",
     "text": [
      "Cloning into 'energy-analysis'...\n",
      "remote: Enumerating objects: 88, done.\u001b[K\n",
      "remote: Counting objects: 100% (88/88), done.\u001b[K\n",
      "remote: Compressing objects: 100% (76/76), done.\u001b[K\n",
      "remote: Total 88 (delta 40), reused 35 (delta 10), pack-reused 0\u001b[K\n",
      "Unpacking objects: 100% (88/88), 137.00 KiB | 1.85 MiB/s, done.\n"
     ]
    }
   ],
   "source": [
    "##Use this code when running it in Google Colab.\n",
    "# !git clone https://github.com/seobho/energy-analysis"
   ]
  },
  {
   "cell_type": "code",
   "execution_count": 8,
   "metadata": {
    "colab": {
     "base_uri": "https://localhost:8080/"
    },
    "id": "jNOTofY-jj8s",
    "outputId": "403d9863-10d9-4b4e-c2c8-4ae2ab6bea7e"
   },
   "outputs": [
    {
     "name": "stdout",
     "output_type": "stream",
     "text": [
      "/content/energy-analysis\n"
     ]
    }
   ],
   "source": [
    "##Use this code when running it in Google Colab.\n",
    "#cd /content/energy-analysis"
   ]
  },
  {
   "cell_type": "code",
   "execution_count": 1,
   "metadata": {
    "id": "_vaBkA2W8YDs"
   },
   "outputs": [],
   "source": [
    "import pandas as pd"
   ]
  },
  {
   "cell_type": "code",
   "execution_count": 8,
   "metadata": {
    "id": "tRVfqLZc8YDt"
   },
   "outputs": [],
   "source": [
    "df = pd.read_csv('/workspace/energy-analysis/dataset/에너지사용량데이터_통계_요약정보.csv', encoding='utf-8')\n",
    "\n",
    "# Use this code when running it in Google Colab. \n",
    "# df = pd.read_csv('/content/energy-analysis/dataset/에너지사용량데이터_통계_요약정보.csv', encoding='utf-8')"
   ]
  },
  {
   "cell_type": "code",
   "execution_count": 9,
   "metadata": {
    "colab": {
     "base_uri": "https://localhost:8080/",
     "height": 629
    },
    "id": "9sMWZWNlpHhZ",
    "outputId": "5996553d-ea19-4f0b-f9c4-443689834635"
   },
   "outputs": [
    {
     "data": {
      "text/html": [
       "<div>\n",
       "<style scoped>\n",
       "    .dataframe tbody tr th:only-of-type {\n",
       "        vertical-align: middle;\n",
       "    }\n",
       "\n",
       "    .dataframe tbody tr th {\n",
       "        vertical-align: top;\n",
       "    }\n",
       "\n",
       "    .dataframe thead th {\n",
       "        text-align: right;\n",
       "    }\n",
       "</style>\n",
       "<table border=\"1\" class=\"dataframe\">\n",
       "  <thead>\n",
       "    <tr style=\"text-align: right;\">\n",
       "      <th></th>\n",
       "      <th>년도</th>\n",
       "      <th>월</th>\n",
       "      <th>회원타입</th>\n",
       "      <th>건수</th>\n",
       "      <th>현년 전기사용량</th>\n",
       "      <th>전년 전기사용량</th>\n",
       "      <th>전전년 전기사용량</th>\n",
       "      <th>토탈 전기 증감량</th>\n",
       "      <th>토탈 전기탄소 증감량</th>\n",
       "      <th>현년 가스사용량</th>\n",
       "      <th>...</th>\n",
       "      <th>전년 수도사용량</th>\n",
       "      <th>전전년 수도사용량</th>\n",
       "      <th>토탈 수도 증감량</th>\n",
       "      <th>토탈 수도탄소 증감량</th>\n",
       "      <th>현년 지역난방 사용량</th>\n",
       "      <th>전년 지역난방 사용량</th>\n",
       "      <th>전전년 지역난방 사용량</th>\n",
       "      <th>토탈 지역난방 증감량</th>\n",
       "      <th>토탈 지역난방탄소 증감량</th>\n",
       "      <th>등록일</th>\n",
       "    </tr>\n",
       "  </thead>\n",
       "  <tbody>\n",
       "    <tr>\n",
       "      <th>0</th>\n",
       "      <td>2023</td>\n",
       "      <td>2</td>\n",
       "      <td>학교</td>\n",
       "      <td>6686</td>\n",
       "      <td>156212159.0</td>\n",
       "      <td>157879854.0</td>\n",
       "      <td>147026809.0</td>\n",
       "      <td>3758827.5</td>\n",
       "      <td>1593742.860</td>\n",
       "      <td>6626730.0</td>\n",
       "      <td>...</td>\n",
       "      <td>1558208.6</td>\n",
       "      <td>1387412.2</td>\n",
       "      <td>198068.20</td>\n",
       "      <td>65758.6424</td>\n",
       "      <td>21391.059</td>\n",
       "      <td>27284.173</td>\n",
       "      <td>23351.389</td>\n",
       "      <td>-3926.722</td>\n",
       "      <td>-6667.713388</td>\n",
       "      <td>2023-05-01 04:13:09.0</td>\n",
       "    </tr>\n",
       "    <tr>\n",
       "      <th>1</th>\n",
       "      <td>2023</td>\n",
       "      <td>2</td>\n",
       "      <td>종교단체</td>\n",
       "      <td>810</td>\n",
       "      <td>8882371.0</td>\n",
       "      <td>8603719.0</td>\n",
       "      <td>7827413.0</td>\n",
       "      <td>666805.0</td>\n",
       "      <td>282725.320</td>\n",
       "      <td>653880.0</td>\n",
       "      <td>...</td>\n",
       "      <td>38138.0</td>\n",
       "      <td>31365.0</td>\n",
       "      <td>9063.50</td>\n",
       "      <td>3009.0820</td>\n",
       "      <td>0.000</td>\n",
       "      <td>0.000</td>\n",
       "      <td>0.000</td>\n",
       "      <td>0.000</td>\n",
       "      <td>0.000000</td>\n",
       "      <td>2023-05-01 04:13:09.0</td>\n",
       "    </tr>\n",
       "    <tr>\n",
       "      <th>2</th>\n",
       "      <td>2023</td>\n",
       "      <td>2</td>\n",
       "      <td>소상공인</td>\n",
       "      <td>49154</td>\n",
       "      <td>104230033.0</td>\n",
       "      <td>105285166.0</td>\n",
       "      <td>100076719.0</td>\n",
       "      <td>1549090.5</td>\n",
       "      <td>656814.372</td>\n",
       "      <td>3736526.0</td>\n",
       "      <td>...</td>\n",
       "      <td>1459420.9</td>\n",
       "      <td>1314505.0</td>\n",
       "      <td>145368.85</td>\n",
       "      <td>48262.4582</td>\n",
       "      <td>2211.410</td>\n",
       "      <td>3155.170</td>\n",
       "      <td>2193.810</td>\n",
       "      <td>-463.080</td>\n",
       "      <td>-649.340404</td>\n",
       "      <td>2023-05-01 04:13:09.0</td>\n",
       "    </tr>\n",
       "    <tr>\n",
       "      <th>3</th>\n",
       "      <td>2023</td>\n",
       "      <td>2</td>\n",
       "      <td>기업</td>\n",
       "      <td>19032</td>\n",
       "      <td>571542443.0</td>\n",
       "      <td>583672346.0</td>\n",
       "      <td>553650148.0</td>\n",
       "      <td>2881196.0</td>\n",
       "      <td>1221627.104</td>\n",
       "      <td>40105191.0</td>\n",
       "      <td>...</td>\n",
       "      <td>3966371.0</td>\n",
       "      <td>3535191.8</td>\n",
       "      <td>493910.70</td>\n",
       "      <td>163978.3524</td>\n",
       "      <td>0.000</td>\n",
       "      <td>0.000</td>\n",
       "      <td>0.000</td>\n",
       "      <td>0.000</td>\n",
       "      <td>0.000000</td>\n",
       "      <td>2023-05-01 04:13:09.0</td>\n",
       "    </tr>\n",
       "    <tr>\n",
       "      <th>4</th>\n",
       "      <td>2023</td>\n",
       "      <td>2</td>\n",
       "      <td>공동주택관리소</td>\n",
       "      <td>3629</td>\n",
       "      <td>522468207.0</td>\n",
       "      <td>541038378.0</td>\n",
       "      <td>537803346.0</td>\n",
       "      <td>-16952655.0</td>\n",
       "      <td>-7187925.720</td>\n",
       "      <td>15160829.0</td>\n",
       "      <td>...</td>\n",
       "      <td>20956560.6</td>\n",
       "      <td>21387511.6</td>\n",
       "      <td>-1071115.30</td>\n",
       "      <td>-355610.2796</td>\n",
       "      <td>0.000</td>\n",
       "      <td>0.000</td>\n",
       "      <td>0.000</td>\n",
       "      <td>0.000</td>\n",
       "      <td>0.000000</td>\n",
       "      <td>2023-05-01 04:13:09.0</td>\n",
       "    </tr>\n",
       "  </tbody>\n",
       "</table>\n",
       "<p>5 rows × 25 columns</p>\n",
       "</div>"
      ],
      "text/plain": [
       "     년도  월     회원타입     건수     현년 전기사용량     전년 전기사용량    전전년 전기사용량   토탈 전기 증감량  \\\n",
       "0  2023  2       학교   6686  156212159.0  157879854.0  147026809.0   3758827.5   \n",
       "1  2023  2     종교단체    810    8882371.0    8603719.0    7827413.0    666805.0   \n",
       "2  2023  2     소상공인  49154  104230033.0  105285166.0  100076719.0   1549090.5   \n",
       "3  2023  2       기업  19032  571542443.0  583672346.0  553650148.0   2881196.0   \n",
       "4  2023  2  공동주택관리소   3629  522468207.0  541038378.0  537803346.0 -16952655.0   \n",
       "\n",
       "   토탈 전기탄소 증감량    현년 가스사용량  ...    전년 수도사용량   전전년 수도사용량   토탈 수도 증감량  \\\n",
       "0  1593742.860   6626730.0  ...   1558208.6   1387412.2   198068.20   \n",
       "1   282725.320    653880.0  ...     38138.0     31365.0     9063.50   \n",
       "2   656814.372   3736526.0  ...   1459420.9   1314505.0   145368.85   \n",
       "3  1221627.104  40105191.0  ...   3966371.0   3535191.8   493910.70   \n",
       "4 -7187925.720  15160829.0  ...  20956560.6  21387511.6 -1071115.30   \n",
       "\n",
       "   토탈 수도탄소 증감량  현년 지역난방 사용량  전년 지역난방 사용량  전전년 지역난방 사용량  토탈 지역난방 증감량  \\\n",
       "0   65758.6424    21391.059    27284.173     23351.389    -3926.722   \n",
       "1    3009.0820        0.000        0.000         0.000        0.000   \n",
       "2   48262.4582     2211.410     3155.170      2193.810     -463.080   \n",
       "3  163978.3524        0.000        0.000         0.000        0.000   \n",
       "4 -355610.2796        0.000        0.000         0.000        0.000   \n",
       "\n",
       "   토탈 지역난방탄소 증감량                    등록일  \n",
       "0   -6667.713388  2023-05-01 04:13:09.0  \n",
       "1       0.000000  2023-05-01 04:13:09.0  \n",
       "2    -649.340404  2023-05-01 04:13:09.0  \n",
       "3       0.000000  2023-05-01 04:13:09.0  \n",
       "4       0.000000  2023-05-01 04:13:09.0  \n",
       "\n",
       "[5 rows x 25 columns]"
      ]
     },
     "execution_count": 9,
     "metadata": {},
     "output_type": "execute_result"
    }
   ],
   "source": [
    "df.head(5)"
   ]
  },
  {
   "cell_type": "markdown",
   "metadata": {
    "id": "EqUEfMvrXcX1"
   },
   "source": [
    "## 1. Column Reindexing and Translating to English\n",
    "\n",
    "### 1-1. Reindexing Columns"
   ]
  },
  {
   "cell_type": "code",
   "execution_count": 10,
   "metadata": {
    "colab": {
     "base_uri": "https://localhost:8080/"
    },
    "id": "MVQQcJJ88YDt",
    "outputId": "0ab91690-f183-4864-dc30-36a99b9124ad"
   },
   "outputs": [
    {
     "data": {
      "text/plain": [
       "Index(['년도', '월', '회원타입', '건수', '현년 전기사용량', '전년 전기사용량', '전전년 전기사용량',\n",
       "       '토탈 전기 증감량', '토탈 전기탄소 증감량', '현년 가스사용량', '전년 가스사용량', '전전년 가스사용량',\n",
       "       '토탈 가스 증감량', '토탈 가스탄소 증감량', '현년 수도사용량', '전년 수도사용량', '전전년 수도사용량',\n",
       "       '토탈 수도 증감량', '토탈 수도탄소 증감량', '현년 지역난방 사용량', '전년 지역난방 사용량',\n",
       "       '전전년 지역난방 사용량', '토탈 지역난방 증감량', '토탈 지역난방탄소 증감량', '등록일'],\n",
       "      dtype='object')"
      ]
     },
     "execution_count": 10,
     "metadata": {},
     "output_type": "execute_result"
    }
   ],
   "source": [
    "df.columns"
   ]
  },
  {
   "cell_type": "code",
   "execution_count": 11,
   "metadata": {
    "id": "FpXpWoxHnEtn"
   },
   "outputs": [],
   "source": [
    "new_columns = ['년도', '월', '회원타입', '건수', '현년 전기사용량', '현년 가스사용량', '현년 수도사용량', '현년 지역난방 사용량']\n",
    "df = df.reindex(columns=new_columns)"
   ]
  },
  {
   "cell_type": "markdown",
   "metadata": {
    "id": "QfLpRLdib65v"
   },
   "source": [
    "### 1-2. Translating Korean Strings to English"
   ]
  },
  {
   "cell_type": "code",
   "execution_count": 12,
   "metadata": {
    "id": "-FlQFy5hFFTS"
   },
   "outputs": [],
   "source": [
    "# columns\n",
    "english_columns = ['year', 'month', 'user_type', 'count', 'electricity_usage', 'gas_usage', 'water_usage', 'district_heating_usage']\n",
    "change_columns = dict(zip(new_columns, english_columns))\n",
    "df.rename(columns=change_columns, inplace=True)\n",
    "\n",
    "# user_type\n",
    "translation_dict = {'학교' : 'school',\n",
    "                 '종교단체' : 'religious_organization',\n",
    "                 '소상공인' : 'small_business_owner',\n",
    "                 '기업' : 'corporation',\n",
    "                 '공동주택관리소' : 'homeowners_association',\n",
    "                 '공공기관' : 'public_institution',\n",
    "                 '개인' : 'individual'}\n",
    "df['user_type'] = df['user_type'].replace(translation_dict)"
   ]
  },
  {
   "cell_type": "markdown",
   "metadata": {
    "id": "ZngYDI3iavGa"
   },
   "source": [
    "## 2. Missing Value Handling\n",
    "\n",
    "### 2.1 Missing Value Identification\n",
    "\n",
    "We need to check for any missing values in the dataset.\n"
   ]
  },
  {
   "cell_type": "code",
   "execution_count": 13,
   "metadata": {
    "colab": {
     "base_uri": "https://localhost:8080/"
    },
    "id": "YNRZ_oFH66SU",
    "outputId": "0d3f4f5d-ff11-4fd6-9c2b-34f4ef1b3f71"
   },
   "outputs": [
    {
     "data": {
      "text/plain": [
       "year                       0\n",
       "month                      0\n",
       "user_type                  0\n",
       "count                      0\n",
       "electricity_usage          0\n",
       "gas_usage                  0\n",
       "water_usage                0\n",
       "district_heating_usage    89\n",
       "dtype: int64"
      ]
     },
     "execution_count": 13,
     "metadata": {},
     "output_type": "execute_result"
    }
   ],
   "source": [
    "df.isnull().sum()"
   ]
  },
  {
   "cell_type": "code",
   "execution_count": 14,
   "metadata": {
    "colab": {
     "base_uri": "https://localhost:8080/",
     "height": 424
    },
    "id": "kZCydxeBmP9g",
    "outputId": "b13ed243-aa31-4ec9-df78-03c44e16738a"
   },
   "outputs": [
    {
     "data": {
      "text/html": [
       "<div>\n",
       "<style scoped>\n",
       "    .dataframe tbody tr th:only-of-type {\n",
       "        vertical-align: middle;\n",
       "    }\n",
       "\n",
       "    .dataframe tbody tr th {\n",
       "        vertical-align: top;\n",
       "    }\n",
       "\n",
       "    .dataframe thead th {\n",
       "        text-align: right;\n",
       "    }\n",
       "</style>\n",
       "<table border=\"1\" class=\"dataframe\">\n",
       "  <thead>\n",
       "    <tr style=\"text-align: right;\">\n",
       "      <th></th>\n",
       "      <th>year</th>\n",
       "      <th>month</th>\n",
       "      <th>user_type</th>\n",
       "      <th>count</th>\n",
       "      <th>electricity_usage</th>\n",
       "      <th>gas_usage</th>\n",
       "      <th>water_usage</th>\n",
       "      <th>district_heating_usage</th>\n",
       "    </tr>\n",
       "  </thead>\n",
       "  <tbody>\n",
       "    <tr>\n",
       "      <th>933</th>\n",
       "      <td>2011</td>\n",
       "      <td>7</td>\n",
       "      <td>corporation</td>\n",
       "      <td>11295</td>\n",
       "      <td>350008567.0</td>\n",
       "      <td>10900863.0</td>\n",
       "      <td>1119936.4</td>\n",
       "      <td>NaN</td>\n",
       "    </tr>\n",
       "    <tr>\n",
       "      <th>934</th>\n",
       "      <td>2011</td>\n",
       "      <td>7</td>\n",
       "      <td>homeowners_association</td>\n",
       "      <td>1083</td>\n",
       "      <td>197066716.0</td>\n",
       "      <td>2294394.0</td>\n",
       "      <td>2334874.8</td>\n",
       "      <td>NaN</td>\n",
       "    </tr>\n",
       "    <tr>\n",
       "      <th>935</th>\n",
       "      <td>2011</td>\n",
       "      <td>7</td>\n",
       "      <td>public_institution</td>\n",
       "      <td>2093</td>\n",
       "      <td>61846123.0</td>\n",
       "      <td>1333936.0</td>\n",
       "      <td>195269.2</td>\n",
       "      <td>NaN</td>\n",
       "    </tr>\n",
       "    <tr>\n",
       "      <th>937</th>\n",
       "      <td>2011</td>\n",
       "      <td>6</td>\n",
       "      <td>school</td>\n",
       "      <td>985</td>\n",
       "      <td>68086711.0</td>\n",
       "      <td>1860931.0</td>\n",
       "      <td>1392081.0</td>\n",
       "      <td>NaN</td>\n",
       "    </tr>\n",
       "    <tr>\n",
       "      <th>938</th>\n",
       "      <td>2011</td>\n",
       "      <td>6</td>\n",
       "      <td>corporation</td>\n",
       "      <td>11217</td>\n",
       "      <td>316638278.0</td>\n",
       "      <td>9186972.0</td>\n",
       "      <td>4001811.6</td>\n",
       "      <td>NaN</td>\n",
       "    </tr>\n",
       "    <tr>\n",
       "      <th>...</th>\n",
       "      <td>...</td>\n",
       "      <td>...</td>\n",
       "      <td>...</td>\n",
       "      <td>...</td>\n",
       "      <td>...</td>\n",
       "      <td>...</td>\n",
       "      <td>...</td>\n",
       "      <td>...</td>\n",
       "    </tr>\n",
       "    <tr>\n",
       "      <th>1038</th>\n",
       "      <td>2009</td>\n",
       "      <td>10</td>\n",
       "      <td>corporation</td>\n",
       "      <td>1734</td>\n",
       "      <td>52667514.0</td>\n",
       "      <td>2749303.0</td>\n",
       "      <td>1009451.2</td>\n",
       "      <td>NaN</td>\n",
       "    </tr>\n",
       "    <tr>\n",
       "      <th>1039</th>\n",
       "      <td>2009</td>\n",
       "      <td>10</td>\n",
       "      <td>homeowners_association</td>\n",
       "      <td>354</td>\n",
       "      <td>71245981.0</td>\n",
       "      <td>860111.0</td>\n",
       "      <td>3228419.4</td>\n",
       "      <td>NaN</td>\n",
       "    </tr>\n",
       "    <tr>\n",
       "      <th>1040</th>\n",
       "      <td>2009</td>\n",
       "      <td>10</td>\n",
       "      <td>public_institution</td>\n",
       "      <td>563</td>\n",
       "      <td>16216821.0</td>\n",
       "      <td>298824.0</td>\n",
       "      <td>335667.4</td>\n",
       "      <td>NaN</td>\n",
       "    </tr>\n",
       "    <tr>\n",
       "      <th>1042</th>\n",
       "      <td>2009</td>\n",
       "      <td>9</td>\n",
       "      <td>corporation</td>\n",
       "      <td>1</td>\n",
       "      <td>259.0</td>\n",
       "      <td>13.0</td>\n",
       "      <td>38.2</td>\n",
       "      <td>NaN</td>\n",
       "    </tr>\n",
       "    <tr>\n",
       "      <th>1043</th>\n",
       "      <td>2009</td>\n",
       "      <td>9</td>\n",
       "      <td>homeowners_association</td>\n",
       "      <td>252</td>\n",
       "      <td>50493183.0</td>\n",
       "      <td>198961.0</td>\n",
       "      <td>2070903.6</td>\n",
       "      <td>NaN</td>\n",
       "    </tr>\n",
       "  </tbody>\n",
       "</table>\n",
       "<p>89 rows × 8 columns</p>\n",
       "</div>"
      ],
      "text/plain": [
       "      year  month               user_type  count  electricity_usage  \\\n",
       "933   2011      7             corporation  11295        350008567.0   \n",
       "934   2011      7  homeowners_association   1083        197066716.0   \n",
       "935   2011      7      public_institution   2093         61846123.0   \n",
       "937   2011      6                  school    985         68086711.0   \n",
       "938   2011      6             corporation  11217        316638278.0   \n",
       "...    ...    ...                     ...    ...                ...   \n",
       "1038  2009     10             corporation   1734         52667514.0   \n",
       "1039  2009     10  homeowners_association    354         71245981.0   \n",
       "1040  2009     10      public_institution    563         16216821.0   \n",
       "1042  2009      9             corporation      1              259.0   \n",
       "1043  2009      9  homeowners_association    252         50493183.0   \n",
       "\n",
       "       gas_usage  water_usage  district_heating_usage  \n",
       "933   10900863.0    1119936.4                     NaN  \n",
       "934    2294394.0    2334874.8                     NaN  \n",
       "935    1333936.0     195269.2                     NaN  \n",
       "937    1860931.0    1392081.0                     NaN  \n",
       "938    9186972.0    4001811.6                     NaN  \n",
       "...          ...          ...                     ...  \n",
       "1038   2749303.0    1009451.2                     NaN  \n",
       "1039    860111.0    3228419.4                     NaN  \n",
       "1040    298824.0     335667.4                     NaN  \n",
       "1042        13.0         38.2                     NaN  \n",
       "1043    198961.0    2070903.6                     NaN  \n",
       "\n",
       "[89 rows x 8 columns]"
      ]
     },
     "execution_count": 14,
     "metadata": {},
     "output_type": "execute_result"
    }
   ],
   "source": [
    "df[df['district_heating_usage'].isnull() == True]"
   ]
  },
  {
   "cell_type": "markdown",
   "metadata": {
    "id": "nT4I0v5SX2qX"
   },
   "source": [
    "### 2-2. Missing Values Handling\n",
    "The missing values are only in the district_heating_usage column.\n",
    "Given the presence of 653 instances where the value is 0 in this column, it is prudent to impute 0 for the missing values."
   ]
  },
  {
   "cell_type": "code",
   "execution_count": 15,
   "metadata": {
    "colab": {
     "base_uri": "https://localhost:8080/"
    },
    "id": "3jvkbFyOnDXK",
    "outputId": "c4fc1c91-99d9-40a2-b7fa-4b26be74a665"
   },
   "outputs": [
    {
     "data": {
      "text/plain": [
       "0       21391.059\n",
       "1           0.000\n",
       "2        2211.410\n",
       "3           0.000\n",
       "4           0.000\n",
       "          ...    \n",
       "1040          NaN\n",
       "1041        0.000\n",
       "1042          NaN\n",
       "1043          NaN\n",
       "1044        0.000\n",
       "Name: district_heating_usage, Length: 1045, dtype: float64"
      ]
     },
     "execution_count": 15,
     "metadata": {},
     "output_type": "execute_result"
    }
   ],
   "source": [
    "df['district_heating_usage']"
   ]
  },
  {
   "cell_type": "code",
   "execution_count": 16,
   "metadata": {
    "colab": {
     "base_uri": "https://localhost:8080/"
    },
    "id": "zNDQ4dFBnAec",
    "outputId": "6f437759-8953-4010-8de7-d8766d06816e"
   },
   "outputs": [
    {
     "data": {
      "text/plain": [
       "653"
      ]
     },
     "execution_count": 16,
     "metadata": {},
     "output_type": "execute_result"
    }
   ],
   "source": [
    "len(df[df['district_heating_usage'] == 0])"
   ]
  },
  {
   "cell_type": "code",
   "execution_count": 17,
   "metadata": {
    "id": "-Pg3yFhrneUX"
   },
   "outputs": [],
   "source": [
    "df['district_heating_usage'].fillna(0, inplace=True)"
   ]
  },
  {
   "cell_type": "code",
   "execution_count": 18,
   "metadata": {
    "colab": {
     "base_uri": "https://localhost:8080/"
    },
    "id": "5cQaayTnpGok",
    "outputId": "37da4cff-6859-4e58-c3be-d105b2437033"
   },
   "outputs": [
    {
     "data": {
      "text/plain": [
       "year                      0\n",
       "month                     0\n",
       "user_type                 0\n",
       "count                     0\n",
       "electricity_usage         0\n",
       "gas_usage                 0\n",
       "water_usage               0\n",
       "district_heating_usage    0\n",
       "dtype: int64"
      ]
     },
     "execution_count": 18,
     "metadata": {},
     "output_type": "execute_result"
    }
   ],
   "source": [
    "df.isnull().sum()"
   ]
  },
  {
   "cell_type": "code",
   "execution_count": 20,
   "metadata": {
    "id": "zi2A0WYDNZVD"
   },
   "outputs": [],
   "source": [
    "df.to_csv('/workspace/energy-analysis/dataset/processed_energy_usage_data.csv')"
   ]
  },
  {
   "cell_type": "code",
   "execution_count": null,
   "metadata": {},
   "outputs": [],
   "source": []
  }
 ],
 "metadata": {
  "colab": {
   "include_colab_link": true,
   "provenance": []
  },
  "kernelspec": {
   "display_name": "Python 3",
   "language": "python",
   "name": "python3"
  },
  "language_info": {
   "codemirror_mode": {
    "name": "ipython",
    "version": 3
   },
   "file_extension": ".py",
   "mimetype": "text/x-python",
   "name": "python",
   "nbconvert_exporter": "python",
   "pygments_lexer": "ipython3",
   "version": "3.7.4"
  }
 },
 "nbformat": 4,
 "nbformat_minor": 1
}
