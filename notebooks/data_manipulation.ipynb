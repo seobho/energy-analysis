{
 "cells": [
  {
   "cell_type": "markdown",
   "metadata": {
    "colab_type": "text",
    "id": "view-in-github"
   },
   "source": [
    "<a href=\"https://colab.research.google.com/github/seobho/energy-analysis/blob/master/notebooks/data_manipulation.ipynb\" target=\"_parent\"><img src=\"https://colab.research.google.com/assets/colab-badge.svg\" alt=\"Open In Colab\"/></a>"
   ]
  },
  {
   "cell_type": "markdown",
   "metadata": {
    "id": "TRPv1QIO8YDr"
   },
   "source": [
    "## Data Manipulation for Seoul City Energy Usage Statistics Dataset\n",
    "\n",
    "This Jupyter Notebook contains the process of manipulating the Seoul City energy usage statistics dataset. The following are the key steps involved in data manipulation:\n",
    "\n",
    "### Introduction to the Dataset\n",
    "\n",
    "This dataset provides statistical information on electricity usage, gas usage, water usage, and district heating energy usage in Seoul Special City. The dataset, owned by Seoul Metropolitan Government, covers aggregated information from September 2009 to February 2023.\n",
    "\n",
    "link: https://data.seoul.go.kr/dataList/OA-15361/S/1/datasetView.do\n",
    "\n",
    "### Data Manipulation Process\n",
    "\n",
    "1. **Removal of Unnecessary Data**: Remove columns that are not relevant to the analysis or contain duplicate data. This helps clean up the dataframe and focus on the necessary data for analysis.\n",
    "\n",
    "2. **Translation of Korean to English**: Convert the Korean columns in the dataset to English to standardize the data. This enables easier data analysis and visualization tasks.\n",
    "\n",
    "3. **Handling Missing Values**: Identify and handle missing values using appropriate techniques. Dealing with missing values ensures data integrity and reliability.\n",
    "\n",
    "By following these steps sequentially, we obtain a processed dataset. We will save the file at the dataset directory as a CSV file. Each step is accompanied by code cells and comments explaining the functions and codes used.\n",
    "\n",
    "**Note**: This notebook utilizes Python and the pandas library for data manipulation.\n",
    "\n",
    "For more details, please refer to the code cells and comments.\n"
   ]
  },
  {
   "cell_type": "code",
   "execution_count": null,
   "metadata": {
    "colab": {
     "base_uri": "https://localhost:8080/"
    },
    "id": "T5-_w6jGjaB0",
    "outputId": "b5c9719d-e264-4121-d030-c2482390fb69"
   },
   "outputs": [],
   "source": [
    "##Use this code when running it in Google Colab.\n",
    "# !git clone https://github.com/seobho/energy-analysis"
   ]
  },
  {
   "cell_type": "code",
   "execution_count": null,
   "metadata": {
    "colab": {
     "base_uri": "https://localhost:8080/"
    },
    "id": "jNOTofY-jj8s",
    "outputId": "403d9863-10d9-4b4e-c2c8-4ae2ab6bea7e"
   },
   "outputs": [],
   "source": [
    "##Use this code when running it in Google Colab.\n",
    "#cd /content/energy-analysis"
   ]
  },
  {
   "cell_type": "code",
   "execution_count": null,
   "metadata": {
    "id": "_vaBkA2W8YDs"
   },
   "outputs": [],
   "source": [
    "import pandas as pd"
   ]
  },
  {
   "cell_type": "code",
   "execution_count": null,
   "metadata": {},
   "outputs": [],
   "source": [
    "dataset_path = '/workspace/energy-analysis/dataset/'\n",
    "\n",
    "# #Use this code when running it in Google Colab\n",
    "# dataset_path = '/content/energy-analysis/dataset'"
   ]
  },
  {
   "cell_type": "code",
   "execution_count": null,
   "metadata": {
    "id": "tRVfqLZc8YDt"
   },
   "outputs": [],
   "source": [
    "df = pd.read_csv(dataset_path + '에너지사용량데이터_통계_요약정보.csv', encoding='utf-8')"
   ]
  },
  {
   "cell_type": "code",
   "execution_count": null,
   "metadata": {
    "colab": {
     "base_uri": "https://localhost:8080/",
     "height": 629
    },
    "id": "9sMWZWNlpHhZ",
    "outputId": "5996553d-ea19-4f0b-f9c4-443689834635"
   },
   "outputs": [],
   "source": [
    "df.head(5)"
   ]
  },
  {
   "cell_type": "markdown",
   "metadata": {
    "id": "EqUEfMvrXcX1"
   },
   "source": [
    "## 1. Removal of Unnecessary Data\n",
    "Remove unnecessary data and reindex columns"
   ]
  },
  {
   "cell_type": "code",
   "execution_count": null,
   "metadata": {
    "colab": {
     "base_uri": "https://localhost:8080/"
    },
    "id": "MVQQcJJ88YDt",
    "outputId": "0ab91690-f183-4864-dc30-36a99b9124ad"
   },
   "outputs": [],
   "source": [
    "df.columns"
   ]
  },
  {
   "cell_type": "code",
   "execution_count": null,
   "metadata": {
    "id": "FpXpWoxHnEtn"
   },
   "outputs": [],
   "source": [
    "new_columns = ['년도', '월', '회원타입', '건수', '현년 전기사용량', '현년 가스사용량', '현년 수도사용량', '현년 지역난방 사용량']\n",
    "df = df.reindex(columns=new_columns)"
   ]
  },
  {
   "cell_type": "markdown",
   "metadata": {
    "id": "QfLpRLdib65v"
   },
   "source": [
    "## 2. Translation of Korean to English\n",
    "\n",
    "Translate Korean strings to English. We need to modify the columns and the 'user_type' column."
   ]
  },
  {
   "cell_type": "code",
   "execution_count": null,
   "metadata": {
    "id": "-FlQFy5hFFTS"
   },
   "outputs": [],
   "source": [
    "# columns\n",
    "english_columns = ['year', 'month', 'user_type', 'count', 'electricity_usage', 'gas_usage', 'water_usage', 'district_heating_usage']\n",
    "change_columns = dict(zip(new_columns, english_columns))\n",
    "df.rename(columns=change_columns, inplace=True)\n",
    "\n",
    "# user_type\n",
    "translation_dict = {'학교' : 'school',\n",
    "                 '종교단체' : 'religious_organization',\n",
    "                 '소상공인' : 'small_business_owner',\n",
    "                 '기업' : 'corporation',\n",
    "                 '공동주택관리소' : 'homeowners_association',\n",
    "                 '공공기관' : 'public_institution',\n",
    "                 '개인' : 'individual'}\n",
    "df['user_type'] = df['user_type'].replace(translation_dict)"
   ]
  },
  {
   "cell_type": "markdown",
   "metadata": {
    "id": "ZngYDI3iavGa"
   },
   "source": [
    "## 3. Missing Value Handling\n",
    "\n",
    "### 3.1 Missing Value Identification\n",
    "\n",
    "We need to check for any missing values in the dataset.\n"
   ]
  },
  {
   "cell_type": "code",
   "execution_count": null,
   "metadata": {
    "colab": {
     "base_uri": "https://localhost:8080/"
    },
    "id": "YNRZ_oFH66SU",
    "outputId": "0d3f4f5d-ff11-4fd6-9c2b-34f4ef1b3f71"
   },
   "outputs": [],
   "source": [
    "df.isnull().sum()"
   ]
  },
  {
   "cell_type": "code",
   "execution_count": null,
   "metadata": {
    "colab": {
     "base_uri": "https://localhost:8080/",
     "height": 424
    },
    "id": "kZCydxeBmP9g",
    "outputId": "b13ed243-aa31-4ec9-df78-03c44e16738a"
   },
   "outputs": [],
   "source": [
    "df[df['district_heating_usage'].isnull() == True]"
   ]
  },
  {
   "cell_type": "markdown",
   "metadata": {
    "id": "nT4I0v5SX2qX"
   },
   "source": [
    "### 3-2. Missing Values Handling\n",
    "The missing values are only in the district_heating_usage column.\n",
    "Given the presence of 653 instances where the value is 0 in this column, it is prudent to impute 0 for the missing values."
   ]
  },
  {
   "cell_type": "code",
   "execution_count": null,
   "metadata": {
    "colab": {
     "base_uri": "https://localhost:8080/"
    },
    "id": "3jvkbFyOnDXK",
    "outputId": "c4fc1c91-99d9-40a2-b7fa-4b26be74a665"
   },
   "outputs": [],
   "source": [
    "df['district_heating_usage']"
   ]
  },
  {
   "cell_type": "code",
   "execution_count": null,
   "metadata": {
    "colab": {
     "base_uri": "https://localhost:8080/"
    },
    "id": "zNDQ4dFBnAec",
    "outputId": "6f437759-8953-4010-8de7-d8766d06816e"
   },
   "outputs": [],
   "source": [
    "len(df[df['district_heating_usage'] == 0])"
   ]
  },
  {
   "cell_type": "code",
   "execution_count": null,
   "metadata": {
    "id": "-Pg3yFhrneUX"
   },
   "outputs": [],
   "source": [
    "df['district_heating_usage'].fillna(0, inplace=True)"
   ]
  },
  {
   "cell_type": "code",
   "execution_count": null,
   "metadata": {
    "colab": {
     "base_uri": "https://localhost:8080/"
    },
    "id": "5cQaayTnpGok",
    "outputId": "37da4cff-6859-4e58-c3be-d105b2437033"
   },
   "outputs": [],
   "source": [
    "df.isnull().sum()"
   ]
  },
  {
   "cell_type": "markdown",
   "metadata": {},
   "source": [
    "## 4. Save File\n",
    "\n",
    "Save the file at the dataset directory as a CSV file."
   ]
  },
  {
   "cell_type": "code",
   "execution_count": null,
   "metadata": {
    "id": "zi2A0WYDNZVD"
   },
   "outputs": [],
   "source": [
    "df.to_csv(dataset_path + 'processed_energy_usage_data.csv', index=False)"
   ]
  }
 ],
 "metadata": {
  "colab": {
   "include_colab_link": true,
   "provenance": []
  },
  "kernelspec": {
   "display_name": "Python 3",
   "language": "python",
   "name": "python3"
  },
  "language_info": {
   "codemirror_mode": {
    "name": "ipython",
    "version": 3
   },
   "file_extension": ".py",
   "mimetype": "text/x-python",
   "name": "python",
   "nbconvert_exporter": "python",
   "pygments_lexer": "ipython3",
   "version": "3.7.4"
  }
 },
 "nbformat": 4,
 "nbformat_minor": 1
}
